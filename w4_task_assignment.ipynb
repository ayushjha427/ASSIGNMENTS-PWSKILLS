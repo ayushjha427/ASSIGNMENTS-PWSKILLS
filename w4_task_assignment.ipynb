{
 "cells": [
  {
   "cell_type": "markdown",
   "id": "854254ba-30c0-4057-a495-935ce6d6ab6e",
   "metadata": {},
   "source": [
    "Q1, Create a vehicle class with an init method having instance variables as name_of_vehicle, max_speed\n",
    "and average_of_vehicle."
   ]
  },
  {
   "cell_type": "code",
   "execution_count": 3,
   "id": "0e5881ea-6c35-4d73-a1db-34da79776558",
   "metadata": {},
   "outputs": [
    {
     "name": "stdout",
     "output_type": "stream",
     "text": [
      "name_of_vehicle : G-wagon\n",
      "max_speed : 250km/h\n",
      "name_of_vehicle : 80km/h\n"
     ]
    }
   ],
   "source": [
    "class vehicle :\n",
    "    \n",
    "    def __init__(self,name_of_vehicle,max_speed,average_speed) :\n",
    "        self.name_of_vehicle = name_of_vehicle\n",
    "        self.max_speed = max_speed\n",
    "        self.average_speed = average_speed\n",
    "        \n",
    "car = vehicle(\"G-wagon\", 250 , 80 )\n",
    "print(f\"name_of_vehicle : {car.name_of_vehicle}\")\n",
    "print(f\"max_speed : {car.max_speed}km/h\")\n",
    "print(f\"name_of_vehicle : {car.average_speed}km/h\")\n",
    "         \n",
    "    "
   ]
  },
  {
   "cell_type": "markdown",
   "id": "58296e24-55c7-42dc-8e01-e64df47ffecb",
   "metadata": {},
   "source": [
    "Q2. Create a child class car from the vehicle class created in Que 1, which will inherit the vehicle class.\n",
    "Create a method named seating_capacity which takes capacity as an argument and returns the name of\n",
    "the vehicle and its seating capacity."
   ]
  },
  {
   "cell_type": "code",
   "execution_count": 33,
   "id": "d18ecb90-c41a-4996-a191-714b7a1fa308",
   "metadata": {},
   "outputs": [
    {
     "name": "stdout",
     "output_type": "stream",
     "text": [
      "Name of Vehicle: wagon\n",
      "Max Speed: 250 km/h\n",
      "Average Speed: 80 km/h\n",
      "wagon has a seating capacity of 5 passengers.\n"
     ]
    }
   ],
   "source": [
    "class Vehicle:\n",
    "    def __init__(self, name_of_vehicle, max_speed, average_speed):\n",
    "        self.name_of_vehicle = name_of_vehicle\n",
    "        self.max_speed = max_speed\n",
    "        self.average_speed = average_speed\n",
    "\n",
    "class Car(Vehicle):\n",
    "    def __init__(self, name_of_vehicle, max_speed, average_speed):\n",
    "        super().__init__(name_of_vehicle, max_speed, average_speed)\n",
    "\n",
    "    def seating_capacity(self, capacity):\n",
    "        return f\"{self.name_of_vehicle} has a seating capacity of {capacity} passengers.\"\n",
    "\n",
    "wagon = Car(\"wagon\", 250, 80)\n",
    "print(f\"Name of Vehicle: {wagon.name_of_vehicle}\")\n",
    "print(f\"Max Speed: {wagon.max_speed} km/h\")\n",
    "print(f\"Average Speed: {wagon.average_speed} km/h\")\n",
    "print(wagon.seating_capacity(5))\n",
    "\n",
    "            \n",
    "    "
   ]
  },
  {
   "cell_type": "markdown",
   "id": "9a4a8ab3-a2a5-49a8-838d-bb2499f39c48",
   "metadata": {},
   "source": [
    "Q3. What is multiple inheritance? Write a python code to demonstrate multiple inheritance."
   ]
  },
  {
   "cell_type": "markdown",
   "id": "3be11e9b-f12f-490b-9097-7399b0709a99",
   "metadata": {},
   "source": [
    "In the multiple inheritance a class can be inherit attributes and methods more than one parent class "
   ]
  },
  {
   "cell_type": "code",
   "execution_count": 36,
   "id": "ef3a1e6c-33f6-4a3b-8e41-998fda5feb36",
   "metadata": {},
   "outputs": [
    {
     "name": "stdout",
     "output_type": "stream",
     "text": [
      "class1\n",
      "this is class2\n"
     ]
    }
   ],
   "source": [
    "class class1:\n",
    "    \n",
    "    def test_class1(self):\n",
    "        return \"class1\"\n",
    "class class2:\n",
    "    \n",
    "    def test_class2(self) :\n",
    "        return \"this is class2\"\n",
    "class class3(class1,class2):\n",
    "    pass\n",
    "\n",
    "obj_class3 = class3()\n",
    "print(obj_class3.test_class1())\n",
    "print(obj_class3.test_class2())"
   ]
  },
  {
   "cell_type": "markdown",
   "id": "107635bc-a3ea-4600-8a9d-46a5c71c26c9",
   "metadata": {},
   "source": [
    "Q4. What are getter and setter in python? Create a class and create a getter and a setter method in this\n",
    "class."
   ]
  },
  {
   "cell_type": "markdown",
   "id": "a7bb96f2-4053-407e-b12c-99f92f6b4434",
   "metadata": {},
   "source": [
    "ANSWER\n",
    "getter:- is feature in oops used to access private attributes from the class \n",
    "setter:- this features used in oops to set value to private attributes in class"
   ]
  },
  {
   "cell_type": "code",
   "execution_count": 40,
   "id": "46658d5e-fc54-4032-9b5b-72264f580e72",
   "metadata": {},
   "outputs": [
    {
     "name": "stdout",
     "output_type": "stream",
     "text": [
      "Student Name: ayush\n",
      "Student Age: 20\n",
      "Updated Student Age: 22\n"
     ]
    }
   ],
   "source": [
    "class Student:\n",
    "    def __init__(self, name, age):\n",
    "        self._name = name\n",
    "        self._age = age\n",
    "\n",
    "    @property\n",
    "    def name(self):\n",
    "        return self._name\n",
    "\n",
    "    @name.setter\n",
    "    def name(self, name):\n",
    "        self._name = name\n",
    "\n",
    "    @property\n",
    "    def age(self):\n",
    "        return self._age\n",
    "\n",
    "    @age.setter\n",
    "    def age(self, age):\n",
    "        if age > 0:\n",
    "            self._age = age\n",
    "        else:\n",
    "            print(\"Age cannot be negative or zero .\")\n",
    "\n",
    "student1 = Student(\"ayush\", 20)\n",
    "print(\"Student Name:\", student1.name)\n",
    "print(\"Student Age:\", student1.age)\n",
    "\n",
    "# Use setter methods to modify attributes\n",
    "student1.age = 22\n",
    "print(\"Updated Student Age:\", student1.age)\n"
   ]
  },
  {
   "cell_type": "markdown",
   "id": "bf4730bd-7f6f-43e9-9565-76d947212898",
   "metadata": {},
   "source": [
    "Q5.What is method overriding in python? Write a python code to demonstrate method overriding."
   ]
  },
  {
   "cell_type": "markdown",
   "id": "13499201-42d9-4740-b64c-a11c2840004c",
   "metadata": {},
   "source": [
    "ANSWER\n",
    "overriding is a concept in python used in oops  when you have two methods with the same name \n",
    "that each perform different tasks so in method overriding, the child class can change its functions \n",
    "that are defined by its ancestral classes.\n"
   ]
  },
  {
   "cell_type": "code",
   "execution_count": 41,
   "id": "8338a217-f603-4cab-99a6-3f764550e85c",
   "metadata": {},
   "outputs": [
    {
     "name": "stdout",
     "output_type": "stream",
     "text": [
      "speaks\n",
      "barks\n",
      "meows\n"
     ]
    }
   ],
   "source": [
    "class Animal:\n",
    "    def speak(self):\n",
    "        print(\"speaks\")\n",
    "\n",
    "class Dog(Animal):\n",
    "    def speak(self):\n",
    "        print(\"barks\")\n",
    "\n",
    "class Cat(Animal):\n",
    "    def speak(self):\n",
    "        print(\"meows\")\n",
    "\n",
    "# Create instances of the classes\n",
    "animal = Animal()\n",
    "dog = Dog()\n",
    "cat = Cat()\n",
    "\n",
    "#output\n",
    "animal.speak()  \n",
    "dog.speak()     \n",
    "cat.speak()\n"
   ]
  },
  {
   "cell_type": "code",
   "execution_count": null,
   "id": "f17785c2-a2cc-43d0-a456-d3f9c525479d",
   "metadata": {},
   "outputs": [],
   "source": []
  }
 ],
 "metadata": {
  "kernelspec": {
   "display_name": "Python 3 (ipykernel)",
   "language": "python",
   "name": "python3"
  },
  "language_info": {
   "codemirror_mode": {
    "name": "ipython",
    "version": 3
   },
   "file_extension": ".py",
   "mimetype": "text/x-python",
   "name": "python",
   "nbconvert_exporter": "python",
   "pygments_lexer": "ipython3",
   "version": "3.10.8"
  }
 },
 "nbformat": 4,
 "nbformat_minor": 5
}
