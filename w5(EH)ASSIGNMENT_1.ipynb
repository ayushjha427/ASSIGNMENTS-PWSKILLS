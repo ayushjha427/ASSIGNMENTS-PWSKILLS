{
 "cells": [
  {
   "cell_type": "markdown",
   "id": "54d1a1b0-ed85-4759-8114-f9571ce10c7d",
   "metadata": {},
   "source": [
    "Q1. What is an Exception in python? Write the difference between Exceptions and\n",
    "Syntax errors.\n"
   ]
  },
  {
   "cell_type": "markdown",
   "id": "7329a4c0-6ed8-49b1-bf0a-7dcae8e929e5",
   "metadata": {},
   "source": [
    "ANSWER:-\n",
    "In Python,exception is an unexpected event that occurs during the excution of program. Exception are a way to handle and respond to issue that can disrupt the normal flow of program. When exception occurs python stops the excution of program and raised an exception object which caught and haldled by the program.\n",
    "exception make code more robust and allow you to deal with errors.\n",
    "some common exception are :- TypeEror,ValueError, I/OError,ZeroDivisionError..or many more\n",
    "\n",
    "Syntax errors, on the other hand, are errors that occur when the Python interpreter cannot understand the code that has been written. Syntax errors are usually caused by spelling mistakes, or incorrect use of Python syntax. Unlike exceptions, which occur during the execution of the program, syntax errors prevent the program from running at all.\n",
    "The key difference between exceptions and syntax errors is that exceptions occur during the execution of a program, while syntax errors occur before the program is executed. Exceptions can be handled with try-except blocks, which allow the program to continue running despite the error, while syntax errors must be fixed before the program can be executed."
   ]
  },
  {
   "cell_type": "code",
   "execution_count": 1,
   "id": "f728a3d6-724c-4eb3-bbb1-a11601674c67",
   "metadata": {},
   "outputs": [
    {
     "name": "stdout",
     "output_type": "stream",
     "text": [
      "this is my except block [Errno 2] No such file or directory: 'test.txt'\n"
     ]
    }
   ],
   "source": [
    "#exception handling example\n",
    "try :\n",
    "    f = open(\"test.txt\" , 'r') #try if error generating\n",
    "    f.write(\"write to my file\")\n",
    "except Exception as e : # except for handle the error\n",
    "        print(\"this is my except block\",e)"
   ]
  },
  {
   "cell_type": "code",
   "execution_count": 4,
   "id": "07b95166-92d1-4604-b41e-e3a768c6d5e4",
   "metadata": {},
   "outputs": [
    {
     "ename": "SyntaxError",
     "evalue": "expected ':' (3148995661.py, line 3)",
     "output_type": "error",
     "traceback": [
      "\u001b[0;36m  Cell \u001b[0;32mIn[4], line 3\u001b[0;36m\u001b[0m\n\u001b[0;31m    if age < 18\u001b[0m\n\u001b[0m               ^\u001b[0m\n\u001b[0;31mSyntaxError\u001b[0m\u001b[0;31m:\u001b[0m expected ':'\n"
     ]
    }
   ],
   "source": [
    "#syntax error example\n",
    "age = 25\n",
    "if age < 18\n",
    "    print(\"You are underage.\")\n",
    "else:\n",
    "    print(\"You are an adult.\")\n",
    "    \n",
    "#i miss the collon so it's showing syntax erro"
   ]
  },
  {
   "cell_type": "markdown",
   "id": "67eab832-0245-4b96-8cce-d6c4c44d0bcb",
   "metadata": {},
   "source": [
    "Q2. What happens when an exception is not handled ? Explain with an example."
   ]
  },
  {
   "cell_type": "markdown",
   "id": "2662674d-fea9-4504-935b-d38a6bbd2d5e",
   "metadata": {},
   "source": [
    " ANSWER:- \n",
    " When an exception is not handled in Python, it results in the termination of the program's normal execution flow. This means that the program will stop running, and an error message will be displayed to indicate the type of exception and where it occurred."
   ]
  },
  {
   "cell_type": "code",
   "execution_count": 5,
   "id": "d7596deb-5b93-400c-98cf-324faf0cc508",
   "metadata": {},
   "outputs": [
    {
     "ename": "FileNotFoundError",
     "evalue": "[Errno 2] No such file or directory: 'test.txt'",
     "output_type": "error",
     "traceback": [
      "\u001b[0;31m---------------------------------------------------------------------------\u001b[0m",
      "\u001b[0;31mFileNotFoundError\u001b[0m                         Traceback (most recent call last)",
      "Cell \u001b[0;32mIn[5], line 1\u001b[0m\n\u001b[0;32m----> 1\u001b[0m f \u001b[38;5;241m=\u001b[39m \u001b[38;5;28;43mopen\u001b[39;49m\u001b[43m(\u001b[49m\u001b[38;5;124;43m\"\u001b[39;49m\u001b[38;5;124;43mtest.txt\u001b[39;49m\u001b[38;5;124;43m\"\u001b[39;49m\u001b[43m \u001b[49m\u001b[43m,\u001b[49m\u001b[43m \u001b[49m\u001b[38;5;124;43m\"\u001b[39;49m\u001b[38;5;124;43mr\u001b[39;49m\u001b[38;5;124;43m\"\u001b[39;49m\u001b[43m)\u001b[49m\n\u001b[1;32m      2\u001b[0m \u001b[38;5;28mprint\u001b[39m(\u001b[38;5;124m\"\u001b[39m\u001b[38;5;124mthis is my print\u001b[39m\u001b[38;5;124m\"\u001b[39m)\n",
      "File \u001b[0;32m/opt/conda/lib/python3.10/site-packages/IPython/core/interactiveshell.py:282\u001b[0m, in \u001b[0;36m_modified_open\u001b[0;34m(file, *args, **kwargs)\u001b[0m\n\u001b[1;32m    275\u001b[0m \u001b[38;5;28;01mif\u001b[39;00m file \u001b[38;5;129;01min\u001b[39;00m {\u001b[38;5;241m0\u001b[39m, \u001b[38;5;241m1\u001b[39m, \u001b[38;5;241m2\u001b[39m}:\n\u001b[1;32m    276\u001b[0m     \u001b[38;5;28;01mraise\u001b[39;00m \u001b[38;5;167;01mValueError\u001b[39;00m(\n\u001b[1;32m    277\u001b[0m         \u001b[38;5;124mf\u001b[39m\u001b[38;5;124m\"\u001b[39m\u001b[38;5;124mIPython won\u001b[39m\u001b[38;5;124m'\u001b[39m\u001b[38;5;124mt let you open fd=\u001b[39m\u001b[38;5;132;01m{\u001b[39;00mfile\u001b[38;5;132;01m}\u001b[39;00m\u001b[38;5;124m by default \u001b[39m\u001b[38;5;124m\"\u001b[39m\n\u001b[1;32m    278\u001b[0m         \u001b[38;5;124m\"\u001b[39m\u001b[38;5;124mas it is likely to crash IPython. If you know what you are doing, \u001b[39m\u001b[38;5;124m\"\u001b[39m\n\u001b[1;32m    279\u001b[0m         \u001b[38;5;124m\"\u001b[39m\u001b[38;5;124myou can use builtins\u001b[39m\u001b[38;5;124m'\u001b[39m\u001b[38;5;124m open.\u001b[39m\u001b[38;5;124m\"\u001b[39m\n\u001b[1;32m    280\u001b[0m     )\n\u001b[0;32m--> 282\u001b[0m \u001b[38;5;28;01mreturn\u001b[39;00m \u001b[43mio_open\u001b[49m\u001b[43m(\u001b[49m\u001b[43mfile\u001b[49m\u001b[43m,\u001b[49m\u001b[43m \u001b[49m\u001b[38;5;241;43m*\u001b[39;49m\u001b[43margs\u001b[49m\u001b[43m,\u001b[49m\u001b[43m \u001b[49m\u001b[38;5;241;43m*\u001b[39;49m\u001b[38;5;241;43m*\u001b[39;49m\u001b[43mkwargs\u001b[49m\u001b[43m)\u001b[49m\n",
      "\u001b[0;31mFileNotFoundError\u001b[0m: [Errno 2] No such file or directory: 'test.txt'"
     ]
    }
   ],
   "source": [
    "f = open(\"test.txt\" , \"r\")\n",
    "print(\"this is my print\")"
   ]
  },
  {
   "cell_type": "markdown",
   "id": "51f81d50-781d-478a-89a6-55e8c4ebf7a8",
   "metadata": {},
   "source": [
    "In the upper code the code is stop and raise error and the next line also not excute \n",
    "because code is excuted line by line and whenever error raised the process stopped their"
   ]
  },
  {
   "cell_type": "code",
   "execution_count": 7,
   "id": "47b44173-8156-4e5a-baf6-59addba744c2",
   "metadata": {},
   "outputs": [
    {
     "name": "stdout",
     "output_type": "stream",
     "text": [
      "An error occurred while opening the file.\n",
      "Program continues running after file operation.\n"
     ]
    }
   ],
   "source": [
    "try:\n",
    "    # Attempt to open a non-existent file\n",
    "    with open('non_existent_file.txt', 'r') as file:\n",
    "        contents = file.read()\n",
    "except:\n",
    "    # No specific exception handling, so this block won't execute\n",
    "    print(\"An error occurred while opening the file.\")\n",
    "print(\"Program continues running after file operation.\")"
   ]
  },
  {
   "cell_type": "markdown",
   "id": "5cdc54c4-c556-4715-bdf3-ad8d71a91dd0",
   "metadata": {},
   "source": [
    "Q3. Which python statement are used to catch and handle exceptions? Explain with an example."
   ]
  },
  {
   "cell_type": "markdown",
   "id": "ef40bf98-4b23-4df0-ab5f-acc059c16dac",
   "metadata": {},
   "source": [
    "ANSWER:- In Python, you can handle exceptions using the try and except statements. The try statement lets you test a block of code for errors, and the except statement lets you handle those errors."
   ]
  },
  {
   "cell_type": "code",
   "execution_count": 2,
   "id": "1b247ab2-2f9b-4e19-a0bc-429bd7a686fb",
   "metadata": {},
   "outputs": [
    {
     "name": "stdout",
     "output_type": "stream",
     "text": [
      "You cannot divide by zero.\n"
     ]
    }
   ],
   "source": [
    "#here is the example of zero division error we can use try to catch the error and except for handling th error\n",
    "try:\n",
    "    result = 10 /0\n",
    "except ZeroDivisionError:\n",
    "    # Handle the division by zero exception\n",
    "    print(\"You cannot divide by zero.\")\n"
   ]
  },
  {
   "cell_type": "code",
   "execution_count": 4,
   "id": "4ccd4885-e21b-4882-a6fd-57c79f14fb0d",
   "metadata": {},
   "outputs": [
    {
     "name": "stdin",
     "output_type": "stream",
     "text": [
      "Enter a number:  @a\n"
     ]
    },
    {
     "name": "stdout",
     "output_type": "stream",
     "text": [
      "Invalid input.\n"
     ]
    }
   ],
   "source": [
    "#here one more example \n",
    "try:\n",
    "    num = int(input(\"Enter a number: \"))\n",
    "    result = 10 / num\n",
    "except ValueError:\n",
    "    # Handle the invalid input (non-integer) exception\n",
    "    print(\"Invalid input.\")"
   ]
  },
  {
   "cell_type": "markdown",
   "id": "6142a5d9-d6cd-4667-9a26-ce8e5de25757",
   "metadata": {},
   "source": [
    "Q4. Explain with an example.\n",
    "a. try and else\n",
    "b. finally\n",
    "c.raise\n"
   ]
  },
  {
   "cell_type": "markdown",
   "id": "fbbcc226-b390-4788-b68a-aa241418af45",
   "metadata": {},
   "source": [
    "Answer(a) = try and else :- the try and else is used to catch and handle the exception in python\n",
    "but when we write else in the program then if try block fail to raise any exception in the program \n",
    "example :-"
   ]
  },
  {
   "cell_type": "code",
   "execution_count": 7,
   "id": "5b06a3cc-c25b-4de9-8cac-05de285554ff",
   "metadata": {},
   "outputs": [
    {
     "name": "stdin",
     "output_type": "stream",
     "text": [
      "Enter a number:  2\n"
     ]
    },
    {
     "name": "stdout",
     "output_type": "stream",
     "text": [
      "Result: 5.0\n"
     ]
    }
   ],
   "source": [
    "#here the else block excuted\n",
    "try:\n",
    "    num = int(input(\"Enter a number: \"))\n",
    "    result = 10 / num\n",
    "except ZeroDivisionError:\n",
    "    print(\"You cannot divide by zero.\")\n",
    "except ValueError:\n",
    "    print(\"Invalid input. Please enter a valid number.\")\n",
    "else:\n",
    "    print(f\"Result: {result}\")\n"
   ]
  },
  {
   "cell_type": "markdown",
   "id": "61bc6cc8-7a86-44d6-a1c2-176c79fe9422",
   "metadata": {},
   "source": [
    "Answer(b) :- The finally statement is used to define a block of code should be excuted no matter excception is raised or not.\n",
    "example:-"
   ]
  },
  {
   "cell_type": "code",
   "execution_count": 9,
   "id": "2061b47b-2e44-40b5-a74d-f5e4c7bb3b65",
   "metadata": {},
   "outputs": [],
   "source": [
    "f=open(\"ayush.txt\",\"w\")\n",
    "f.write(\"my name is ayush\")\n",
    "f.close()"
   ]
  },
  {
   "cell_type": "code",
   "execution_count": 13,
   "id": "c211c2d0-987b-4d0a-bdca-1f8139374401",
   "metadata": {},
   "outputs": [
    {
     "name": "stdout",
     "output_type": "stream",
     "text": [
      "my name is ayush\n",
      "this finally block is always executed no matter exception is raised or not\n"
     ]
    }
   ],
   "source": [
    "try :\n",
    "    f=open(\"ayush.txt\",\"r\")\n",
    "    a=f.read()\n",
    "except :\n",
    "    print(\"the file does not exist\") \n",
    "else:\n",
    "    print(a)\n",
    "finally :\n",
    "    print(\"this finally block is always executed no matter exception is raised or not\")"
   ]
  },
  {
   "cell_type": "code",
   "execution_count": 14,
   "id": "467008ab-c558-45d5-b2de-5ece94250c10",
   "metadata": {},
   "outputs": [
    {
     "name": "stdout",
     "output_type": "stream",
     "text": [
      "the file does not exist\n",
      "this finally block is always executed no matter exception is raised or not\n"
     ]
    }
   ],
   "source": [
    "try :\n",
    "    f=open(\"kumar jha.txt\",\"r\")\n",
    "    a=f.read()\n",
    "except :\n",
    "    print(\"the file does not exist\") \n",
    "else:\n",
    "    print(a)\n",
    "finally :\n",
    "    print(\"this finally block is always executed no matter exception is raised or not\")"
   ]
  },
  {
   "cell_type": "markdown",
   "id": "7b6f7269-171f-4042-b627-30632bf90a4b",
   "metadata": {},
   "source": [
    "Answer(c) :- The raise statement is used to raise an exception in Python. You can use it to raise a predefined exception,or you can define your own custom exception."
   ]
  },
  {
   "cell_type": "code",
   "execution_count": 15,
   "id": "13541bbe-4c37-4c29-b5b8-209c7ddafe1e",
   "metadata": {},
   "outputs": [
    {
     "name": "stdout",
     "output_type": "stream",
     "text": [
      "An error occurred: Cannot divide by zero\n"
     ]
    }
   ],
   "source": [
    " def divide(a, b):\n",
    "    if b == 0:\n",
    "        raise ValueError(\"Cannot divide by zero\")\n",
    "    return a / b\n",
    "\n",
    "try:\n",
    "    result = divide(10, 0)\n",
    "except ValueError as e:\n",
    "    print(f\"An error occurred: {e}\")"
   ]
  },
  {
   "cell_type": "markdown",
   "id": "67ce531f-46f4-4c7a-802e-860ff9274324",
   "metadata": {},
   "source": [
    "Question 5 : What are custom Exceptions in python ? Why do we need Custom Exceptions? Explain with an Example."
   ]
  },
  {
   "cell_type": "markdown",
   "id": "bbf747f5-3998-41b1-8185-04ea4c1b30ec",
   "metadata": {},
   "source": [
    "In Python, custom exceptions are user-defined exceptions that extend the base Exception class. They allow you to create your own exception types with customised error messages.\n",
    "\n",
    "we need because of customising the exception and make easily understandable in debugging time due to custom messages or provide more specific and meaningful error messages to the user and make easier to handle errors in a specific way like makking exception handling in structural and organized manner."
   ]
  },
  {
   "cell_type": "code",
   "execution_count": 18,
   "id": "082813a1-5760-498b-bb8b-cdd37b160fb0",
   "metadata": {},
   "outputs": [
    {
     "name": "stdin",
     "output_type": "stream",
     "text": [
      "Enter data:  \n"
     ]
    },
    {
     "name": "stdout",
     "output_type": "stream",
     "text": [
      "Error: Input data is empty\n"
     ]
    }
   ],
   "source": [
    "class InvalidInputError(Exception):\n",
    "    pass\n",
    "def process_data(data):\n",
    "    if not data:\n",
    "        raise InvalidInputError(\"Input data is empty\")\n",
    "\n",
    "try:\n",
    "    user_input = input(\"Enter data: \")\n",
    "    process_data(user_input)\n",
    "except InvalidInputError as e:\n",
    "    print(f\"Error: {e}\")\n"
   ]
  },
  {
   "cell_type": "code",
   "execution_count": 26,
   "id": "cc7dbabc-5d04-4882-ac24-499cf7024618",
   "metadata": {},
   "outputs": [
    {
     "name": "stdin",
     "output_type": "stream",
     "text": [
      "enter a number -44\n"
     ]
    },
    {
     "name": "stdout",
     "output_type": "stream",
     "text": [
      "the number cannot be negative\n"
     ]
    }
   ],
   "source": [
    "#another example\n",
    "class NegativeNumberError(Exception):\n",
    "    pass\n",
    "def func(a):\n",
    "    if a <0 :\n",
    "        raise NegativeNumberError(\"the number cannot be negative\")\n",
    "    return(a*5)\n",
    "a=int(input(\"enter a number\"))\n",
    "try :\n",
    "    func(a)\n",
    "    \n",
    "except NegativeNumberError as e :\n",
    "    print(e) \n",
    "else :\n",
    "    print(func(a))"
   ]
  },
  {
   "cell_type": "markdown",
   "id": "a84b7a48-914a-450d-88b5-62a2e91a3eb1",
   "metadata": {},
   "source": [
    "Question 6 : Create a custom exception class . Use this class to handle exception"
   ]
  },
  {
   "cell_type": "code",
   "execution_count": 35,
   "id": "ec6be8d5-9f2a-45bc-a192-b270a7519309",
   "metadata": {},
   "outputs": [
    {
     "name": "stdout",
     "output_type": "stream",
     "text": [
      "Custom Exception Caught: Division by zero is not allowed\n"
     ]
    }
   ],
   "source": [
    "class CustomException(Exception):\n",
    "    def __init__(self, msg):\n",
    "        self.msg = msg \n",
    "\n",
    "# Function that raises the custom exception\n",
    "def divide(a, b):\n",
    "    if b == 0:\n",
    "        raise CustomException(\"Division by zero is not allowed\")\n",
    "    return a / b\n",
    "\n",
    "try:\n",
    "    result = divide(10, 0)\n",
    "except CustomException as e:\n",
    "    print(f\"Custom Exception Caught: {e}\")\n",
    "else:\n",
    "    print(f\"Result: {result}\")\n"
   ]
  },
  {
   "cell_type": "code",
   "execution_count": null,
   "id": "ace8bf8d-c5e5-44da-8e60-0292f1d91f3d",
   "metadata": {},
   "outputs": [],
   "source": []
  }
 ],
 "metadata": {
  "kernelspec": {
   "display_name": "Python 3 (ipykernel)",
   "language": "python",
   "name": "python3"
  },
  "language_info": {
   "codemirror_mode": {
    "name": "ipython",
    "version": 3
   },
   "file_extension": ".py",
   "mimetype": "text/x-python",
   "name": "python",
   "nbconvert_exporter": "python",
   "pygments_lexer": "ipython3",
   "version": "3.10.8"
  }
 },
 "nbformat": 4,
 "nbformat_minor": 5
}
