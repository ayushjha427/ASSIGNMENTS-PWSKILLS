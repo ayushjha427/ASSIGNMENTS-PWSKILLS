{
 "cells": [
  {
   "cell_type": "markdown",
   "id": "6b72127a-4e7d-4f2f-ae48-342e50f2ae92",
   "metadata": {},
   "source": [
    "Q1. What is Abstraction in OOps? Explain with an example."
   ]
  },
  {
   "cell_type": "markdown",
   "id": "f51db849-f5f6-4912-91e6-c68d4d240555",
   "metadata": {},
   "source": [
    "ANSWER:-\n",
    "abstraction is a concept in oops that show only essential information and hide \n",
    "unnecessary  information from the user\n",
    "we can say that it showing only functionality to the user"
   ]
  },
  {
   "cell_type": "code",
   "execution_count": 4,
   "id": "23b184ff-bb46-4ca8-8071-8aefb21abd37",
   "metadata": {},
   "outputs": [
    {
     "name": "stdout",
     "output_type": "stream",
     "text": [
      "Circle Area: 78.53975\n",
      "Circle Perimeter: 31.4159\n",
      "Rectangle Area: 24\n",
      "Rectangle Perimeter: 20\n"
     ]
    }
   ],
   "source": [
    "import abc\n",
    "class figure :\n",
    "\n",
    "    @abc.abstractmethod\n",
    "    def area(self):\n",
    "        pass\n",
    "\n",
    "    @abc.abstractmethod\n",
    "    def perimeter(self):\n",
    "        pass\n",
    "class Circle(figure):\n",
    "    def __init__(self, radius):\n",
    "        self.radius = radius\n",
    "\n",
    "    def area(self):\n",
    "        return 3.14159 * self.radius * self.radius\n",
    "\n",
    "    def perimeter(self):\n",
    "        return 2 * 3.14159 * self.radius\n",
    "\n",
    "class Rectangle(figure):\n",
    "    def __init__(self, width, height):\n",
    "        self.width = width\n",
    "        self.height = height\n",
    "\n",
    "    def area(self):\n",
    "        return self.width * self.height\n",
    "\n",
    "    def perimeter(self):\n",
    "        return 2 * (self.width + self.height)\n",
    "circle = Circle(5)\n",
    "rectangle = Rectangle(4, 6)\n",
    "\n",
    "# You can use the abstract methods on these instances\n",
    "print(\"Circle Area:\", circle.area())\n",
    "print(\"Circle Perimeter:\", circle.perimeter())\n",
    "print(\"Rectangle Area:\", rectangle.area())\n",
    "print(\"Rectangle Perimeter:\", rectangle.perimeter())\n",
    "    \n",
    "    "
   ]
  },
  {
   "cell_type": "markdown",
   "id": "3814545d-dac8-4c2a-aac6-fc48841efb43",
   "metadata": {},
   "source": [
    "Q2. Differentiate between Abstraction and Encapsulation. Explain with an example."
   ]
  },
  {
   "cell_type": "markdown",
   "id": "63d1360b-a0a1-4e88-b527-8a3288d36194",
   "metadata": {},
   "source": [
    "ANSWER :-\n",
    "abstraction is hidding the unwanted data from the user and showing only the necessaryt neede outcome\n",
    "but encapsulation is encap the data ,functions ,methods in a single unit "
   ]
  },
  {
   "cell_type": "code",
   "execution_count": 5,
   "id": "a87b556f-c620-4c0f-94a6-3d3207dde1e4",
   "metadata": {},
   "outputs": [
    {
     "name": "stdout",
     "output_type": "stream",
     "text": [
      "Circle Area: 78.53975\n",
      "Circle Perimeter: 31.4159\n",
      "Rectangle Area: 24\n",
      "Rectangle Perimeter: 20\n"
     ]
    }
   ],
   "source": [
    "#this is the example of abstraction\n",
    "import abc\n",
    "class figure :\n",
    "\n",
    "    @abc.abstractmethod\n",
    "    def area(self):\n",
    "        pass\n",
    "\n",
    "    @abc.abstractmethod\n",
    "    def perimeter(self):\n",
    "        pass\n",
    "class Circle(figure):\n",
    "    def __init__(self, radius):\n",
    "        self.radius = radius\n",
    "\n",
    "    def area(self):\n",
    "        return 3.14159 * self.radius * self.radius\n",
    "\n",
    "    def perimeter(self):\n",
    "        return 2 * 3.14159 * self.radius\n",
    "\n",
    "class Rectangle(figure):\n",
    "    def __init__(self, width, height):\n",
    "        self.width = width\n",
    "        self.height = height\n",
    "\n",
    "    def area(self):\n",
    "        return self.width * self.height\n",
    "\n",
    "    def perimeter(self):\n",
    "        return 2 * (self.width + self.height)\n",
    "circle = Circle(5)\n",
    "rectangle = Rectangle(4, 6)\n",
    "\n",
    "# You can use the abstract methods on these instances\n",
    "print(\"Circle Area:\", circle.area())\n",
    "print(\"Circle Perimeter:\", circle.perimeter())\n",
    "print(\"Rectangle Area:\", rectangle.area())\n",
    "print(\"Rectangle Perimeter:\", rectangle.perimeter())\n",
    "    \n",
    "    #this same code i use in q1 is abstraction where only result is displayed but the working part hide from the user "
   ]
  },
  {
   "cell_type": "code",
   "execution_count": 11,
   "id": "6c4b6092-3ca6-435d-a096-8df977152cc1",
   "metadata": {},
   "outputs": [],
   "source": [
    "#now this is the example of encapsulation\n",
    "class bank_account :\n",
    "    def __init__(self,balance) :\n",
    "        self.__balance= balance\n",
    "    \n",
    "    def deposite(self, amount) :\n",
    "        self.__balance = self.__balance + amount\n",
    "        \n",
    "    def withdraw(self, amount) :\n",
    "        if self.__balance >= amount :\n",
    "            self.__balance = self.__balance - amount\n",
    "            return True\n",
    "        else : \n",
    "            return False\n",
    "    \n",
    "    def get_balance(self) :\n",
    "        return self.__balance\n",
    "    \n"
   ]
  },
  {
   "cell_type": "code",
   "execution_count": 12,
   "id": "0844195e-6acf-4a5f-9573-762cf92bbeef",
   "metadata": {},
   "outputs": [],
   "source": [
    "ayush = bank_account(20000)"
   ]
  },
  {
   "cell_type": "code",
   "execution_count": 13,
   "id": "6fdfff78-2f62-4dc2-a084-7080c324723e",
   "metadata": {},
   "outputs": [
    {
     "data": {
      "text/plain": [
       "20000"
      ]
     },
     "execution_count": 13,
     "metadata": {},
     "output_type": "execute_result"
    }
   ],
   "source": [
    "ayush.get_balance()"
   ]
  },
  {
   "cell_type": "code",
   "execution_count": 14,
   "id": "9c168bfa-1f19-4728-8381-e5b2ccef957b",
   "metadata": {},
   "outputs": [],
   "source": [
    "ayush.deposite(5000)"
   ]
  },
  {
   "cell_type": "code",
   "execution_count": 15,
   "id": "d6a7fc9d-58d5-440b-b62e-816503f4853d",
   "metadata": {},
   "outputs": [
    {
     "data": {
      "text/plain": [
       "25000"
      ]
     },
     "execution_count": 15,
     "metadata": {},
     "output_type": "execute_result"
    }
   ],
   "source": [
    "ayush.get_balance()"
   ]
  },
  {
   "cell_type": "markdown",
   "id": "b0f3efdf-313b-4070-b457-4d5e69b79aa5",
   "metadata": {},
   "source": [
    "Q3. What is abc module in python? Why is it used?"
   ]
  },
  {
   "cell_type": "markdown",
   "id": "5165221a-9aa1-4fcf-87ff-16015d2c4288",
   "metadata": {},
   "source": [
    "abc module stands for Abstract Base Classes in oops conecpt this use for achieving \n",
    "abstract method 1.defining abstract base classes\n",
    "2. providing common interface\n",
    "3.used in documentation and checking of type \n",
    "4.enforcing method implementaiton"
   ]
  },
  {
   "cell_type": "markdown",
   "id": "f229648a-768a-487b-9872-4f13de792d52",
   "metadata": {},
   "source": [
    "Q4. How can we achieve data abstraction?"
   ]
  },
  {
   "cell_type": "markdown",
   "id": "c19656df-e489-488c-bab5-d22c4b17b766",
   "metadata": {},
   "source": [
    "data abstraction in Python is primarily achieved through encapsulation, using classes and methods to hide the internal details of data structures and providing a well-defined interface for users to interact with the data."
   ]
  },
  {
   "cell_type": "code",
   "execution_count": 17,
   "id": "338e2447-012f-4531-97f5-733258328630",
   "metadata": {},
   "outputs": [],
   "source": [
    "class car :\n",
    "    def __init__(self,year,make,model,speed) :\n",
    "        self.__year = year\n",
    "        self.__make = make\n",
    "        self.model = model\n",
    "        self.__speed = 0\n",
    "        \n",
    "    def set_speed(self,speed):\n",
    "        self.__speed = 0 if speed<0 else speed\n",
    "    \n",
    "    def get_speed(self) :\n",
    "        return self.__speed"
   ]
  },
  {
   "cell_type": "code",
   "execution_count": 18,
   "id": "a515bf21-9e83-49c5-98b5-b63e4b31301f",
   "metadata": {},
   "outputs": [],
   "source": [
    "c = car(2021,\"merc\",\"gwagon\" ,250)"
   ]
  },
  {
   "cell_type": "code",
   "execution_count": 19,
   "id": "76ec4511-9fec-4d7f-86fd-28d0a742eedf",
   "metadata": {},
   "outputs": [
    {
     "data": {
      "text/plain": [
       "'gwagon'"
      ]
     },
     "execution_count": 19,
     "metadata": {},
     "output_type": "execute_result"
    }
   ],
   "source": [
    "c.model"
   ]
  },
  {
   "cell_type": "code",
   "execution_count": 20,
   "id": "dba8f019-0a38-4bc0-a072-d5de532fa3f2",
   "metadata": {},
   "outputs": [
    {
     "ename": "AttributeError",
     "evalue": "'car' object has no attribute 'year'",
     "output_type": "error",
     "traceback": [
      "\u001b[0;31m---------------------------------------------------------------------------\u001b[0m",
      "\u001b[0;31mAttributeError\u001b[0m                            Traceback (most recent call last)",
      "Cell \u001b[0;32mIn[20], line 1\u001b[0m\n\u001b[0;32m----> 1\u001b[0m \u001b[43mc\u001b[49m\u001b[38;5;241;43m.\u001b[39;49m\u001b[43myear\u001b[49m\n",
      "\u001b[0;31mAttributeError\u001b[0m: 'car' object has no attribute 'year'"
     ]
    }
   ],
   "source": [
    "c.year # not working because data abstract with using encap "
   ]
  },
  {
   "cell_type": "code",
   "execution_count": 21,
   "id": "d112a9a3-219e-42d7-a18f-978fcf4ffe83",
   "metadata": {},
   "outputs": [
    {
     "data": {
      "text/plain": [
       "2021"
      ]
     },
     "execution_count": 21,
     "metadata": {},
     "output_type": "execute_result"
    }
   ],
   "source": [
    "c._car__year # need to use this for getting the data of year"
   ]
  },
  {
   "cell_type": "markdown",
   "id": "69d930a1-6314-4a21-9d44-215ab763d887",
   "metadata": {},
   "source": [
    "Q5. Can we create an instance of an abstract class? Explain your answer."
   ]
  },
  {
   "cell_type": "markdown",
   "id": "434bdd68-6b97-43c9-a750-9e09f956a467",
   "metadata": {},
   "source": [
    "ANSWER:-in python we cannot create instance of abstract calss directly abstract calss is meant to be used as a base calsses for other class and it typically created through using \"abc\" "
   ]
  },
  {
   "cell_type": "code",
   "execution_count": 22,
   "id": "efbcc2a9-c7fc-4aeb-8319-d20622e420ce",
   "metadata": {},
   "outputs": [],
   "source": [
    "from abc import ABC, abstractmethod\n",
    "\n",
    "class AbstractClass(ABC):\n",
    "\n",
    "    @abstractmethod\n",
    "    def abstract_method(self):\n",
    "        pass\n",
    "\n",
    "class ConcreteClass(AbstractClass):\n",
    "\n",
    "    def abstract_method(self):\n",
    "        return \" implementation of the abstract method\"\n"
   ]
  },
  {
   "cell_type": "code",
   "execution_count": 23,
   "id": "235afd4a-377c-4488-9b87-6e05953102c0",
   "metadata": {},
   "outputs": [
    {
     "ename": "TypeError",
     "evalue": "Can't instantiate abstract class AbstractClass with abstract method abstract_method",
     "output_type": "error",
     "traceback": [
      "\u001b[0;31m---------------------------------------------------------------------------\u001b[0m",
      "\u001b[0;31mTypeError\u001b[0m                                 Traceback (most recent call last)",
      "Cell \u001b[0;32mIn[23], line 1\u001b[0m\n\u001b[0;32m----> 1\u001b[0m instance \u001b[38;5;241m=\u001b[39m \u001b[43mAbstractClass\u001b[49m\u001b[43m(\u001b[49m\u001b[43m)\u001b[49m\n",
      "\u001b[0;31mTypeError\u001b[0m: Can't instantiate abstract class AbstractClass with abstract method abstract_method"
     ]
    }
   ],
   "source": [
    "instance = AbstractClass() #showing error"
   ]
  },
  {
   "cell_type": "code",
   "execution_count": 24,
   "id": "491e0d9b-76c9-40fd-9b91-3499bedabe23",
   "metadata": {},
   "outputs": [
    {
     "name": "stdout",
     "output_type": "stream",
     "text": [
      " implementation of the abstract method\n"
     ]
    }
   ],
   "source": [
    "instance = ConcreteClass()\n",
    "result = instance.abstract_method()\n",
    "print(result)\n",
    "#the way of acheiving abstract method"
   ]
  },
  {
   "cell_type": "code",
   "execution_count": null,
   "id": "ab3148dc-cff3-48c1-aedb-9bab44d5ba2c",
   "metadata": {},
   "outputs": [],
   "source": []
  }
 ],
 "metadata": {
  "kernelspec": {
   "display_name": "Python 3 (ipykernel)",
   "language": "python",
   "name": "python3"
  },
  "language_info": {
   "codemirror_mode": {
    "name": "ipython",
    "version": 3
   },
   "file_extension": ".py",
   "mimetype": "text/x-python",
   "name": "python",
   "nbconvert_exporter": "python",
   "pygments_lexer": "ipython3",
   "version": "3.10.8"
  }
 },
 "nbformat": 4,
 "nbformat_minor": 5
}
