{
 "cells": [
  {
   "cell_type": "markdown",
   "id": "3f4cacdf-86e9-4322-9c8b-57e45d388100",
   "metadata": {},
   "source": [
    "Q1. Explain Class and Object with respect to Object-Oriented Programming. Give a suitable example."
   ]
  },
  {
   "cell_type": "markdown",
   "id": "550dd572-a3aa-4392-89f3-6f499d6d2916",
   "metadata": {},
   "source": [
    "ANSWER :-\n",
    "in object oriented programming calss is user defines prototype where objects is created \n",
    "object is real world entity anyhting in the world is object like :-pen,chair ,animals \n",
    "we created object inside class. \n"
   ]
  },
  {
   "cell_type": "code",
   "execution_count": 9,
   "id": "7404978e-4a98-4729-b5a1-bfe8edef01d7",
   "metadata": {},
   "outputs": [
    {
     "name": "stdout",
     "output_type": "stream",
     "text": [
      "ayush kumar jha\n"
     ]
    }
   ],
   "source": [
    "class Information :\n",
    "    def __init__(self,name):\n",
    "        self.name = name\n",
    "data = Information(\"ayush kumar jha\")\n",
    "print(data.name)\n",
    "    "
   ]
  },
  {
   "cell_type": "markdown",
   "id": "0b0a50eb-a549-4623-bd96-39bcf67d2208",
   "metadata": {},
   "source": [
    "Q2. Name the four pillars of OOPs."
   ]
  },
  {
   "cell_type": "markdown",
   "id": "74855861-f9e9-4d3c-bec6-70c1a230508d",
   "metadata": {},
   "source": [
    "ANSWER:-\n",
    "The four pillars of oops is \n",
    "1.ABSTRACTION\n",
    "2.ENCAPSULATION\n",
    "3.INHERITANCE\n",
    "4.POLYMOSPHISM"
   ]
  },
  {
   "cell_type": "markdown",
   "id": "30aae8de-3296-43fe-aeee-395ec05a4c00",
   "metadata": {},
   "source": [
    "Q3. Explain why the __init__() function is used. Give a suitable example."
   ]
  },
  {
   "cell_type": "markdown",
   "id": "345343b3-f611-4683-8c8f-8f33c1f5f38d",
   "metadata": {},
   "source": [
    "Answer:-\n",
    "this method also known as dunder method it is used as a constructor method for initializing object of class\n",
    "first purpose is to asiging value to its attribute"
   ]
  },
  {
   "cell_type": "code",
   "execution_count": 12,
   "id": "4732498a-9289-4ba7-88c3-c54d4ac3197f",
   "metadata": {},
   "outputs": [
    {
     "name": "stdout",
     "output_type": "stream",
     "text": [
      "Hi, my name is Ayush, and I am 20 years old.\n",
      "Hi, my name is Harsh, and I am 21 years old.\n"
     ]
    }
   ],
   "source": [
    "class Information :\n",
    "    def __init__(self,name,age):\n",
    "        self.name = name\n",
    "        self.age = age\n",
    "\n",
    "    def introduce(self):\n",
    "        print(f\"Hi, my name is {self.name}, and I am {self.age} years old.\")\n",
    "        \n",
    "person1 = Information(\"Ayush\", 20)\n",
    "person2 = Information(\"Harsh\", 21)\n",
    "\n",
    "person1.introduce()\n",
    "person2.introduce()\n"
   ]
  },
  {
   "cell_type": "markdown",
   "id": "3a28c98b-0643-4e31-9f20-41e9fa0dd013",
   "metadata": {},
   "source": [
    "Q4. Why self is used in OOPs?"
   ]
  },
  {
   "cell_type": "markdown",
   "id": "4975a3b0-ba9c-4dce-a4d6-533b01dd0ea9",
   "metadata": {},
   "source": [
    "Answer:-\n",
    "self is just a parameter in oops concept in python you can use anything in place of this\n",
    "it is used to refer instance of class within the class itself"
   ]
  },
  {
   "cell_type": "markdown",
   "id": "080b968d-9cb6-4402-a73a-19c3dff14396",
   "metadata": {},
   "source": [
    "Q5. What is inheritance? Give an example for each type of inheritance."
   ]
  },
  {
   "cell_type": "markdown",
   "id": "6ef19e3b-f0bb-4e6e-bb07-dcfa75d75a72",
   "metadata": {},
   "source": [
    "Answer:-\n",
    "inheritance is a feature of oops in which a class derived from another calss\n",
    "the child class inherit all public and provate properties and methods from parent class"
   ]
  },
  {
   "cell_type": "code",
   "execution_count": 13,
   "id": "7b27e227-278d-411b-9c1c-b1a085d92977",
   "metadata": {},
   "outputs": [
    {
     "name": "stdout",
     "output_type": "stream",
     "text": [
      "class1\n",
      "this is class2\n"
     ]
    }
   ],
   "source": [
    "class class1:\n",
    "    \n",
    "    def test_class1(self):\n",
    "        return \"class1\"\n",
    "class class2:\n",
    "    \n",
    "    def test_class2(self) :\n",
    "        return \"this is class2\"\n",
    "class class3(class1,class2):\n",
    "    pass\n",
    "\n",
    "obj_class3 = class3()\n",
    "print(obj_class3.test_class1())\n",
    "print(obj_class3.test_class2())"
   ]
  },
  {
   "cell_type": "code",
   "execution_count": null,
   "id": "15a2a753-17ca-4f7f-9b4d-982afcf7c3e1",
   "metadata": {},
   "outputs": [],
   "source": []
  }
 ],
 "metadata": {
  "kernelspec": {
   "display_name": "Python 3 (ipykernel)",
   "language": "python",
   "name": "python3"
  },
  "language_info": {
   "codemirror_mode": {
    "name": "ipython",
    "version": 3
   },
   "file_extension": ".py",
   "mimetype": "text/x-python",
   "name": "python",
   "nbconvert_exporter": "python",
   "pygments_lexer": "ipython3",
   "version": "3.10.8"
  }
 },
 "nbformat": 4,
 "nbformat_minor": 5
}
